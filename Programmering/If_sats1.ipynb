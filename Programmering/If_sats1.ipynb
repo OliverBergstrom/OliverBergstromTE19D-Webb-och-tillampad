{
 "metadata": {
  "language_info": {
   "codemirror_mode": {
    "name": "ipython",
    "version": 3
   },
   "file_extension": ".py",
   "mimetype": "text/x-python",
   "name": "python",
   "nbconvert_exporter": "python",
   "pygments_lexer": "ipython3",
   "version": "3.8.3-final"
  },
  "orig_nbformat": 2,
  "kernelspec": {
   "name": "python3",
   "display_name": "Python 3"
  }
 },
 "nbformat": 4,
 "nbformat_minor": 2,
 "cells": [
  {
   "cell_type": "code",
   "execution_count": 11,
   "metadata": {
    "tags": []
   },
   "outputs": [
    {
     "output_type": "stream",
     "name": "stdout",
     "text": "talet är udda\n"
    }
   ],
   "source": [
    "tal = int(input(\"Ange ett heltal\"))\n",
    "\n",
    "if tal%2==0:\n",
    "    print(\"talet är jämnt\")\n",
    "else:\n",
    "    print(\"talet är udda\")"
   ]
  },
  {
   "cell_type": "code",
   "execution_count": 10,
   "metadata": {
    "tags": []
   },
   "outputs": [
    {
     "output_type": "stream",
     "name": "stdout",
     "text": "Spetsig vinkel\n"
    }
   ],
   "source": [
    "vinkel = float(input(\"Ange en vinkel v i grader, där 0<=v<=360\"))\n",
    "\n",
    "# 0 < vinkel < 90 v är spetsig\n",
    "# v = 90: rät vinkel\n",
    "# 90<v<180: trubbig vinkel\n",
    "\n",
    "if vinkel < 90 and vinkel > 0:\n",
    "    print(\"Spetsig vinkel\")\n",
    "elif vinkel == 90:\n",
    "    print(\"Rät vinkel\")\n",
    "elif vinkel < 180:\n",
    "    print(\"Trubbig vinkel\")\n",
    "else:\n",
    "    print(\"Vinkeln är varken trubbig, rät eller spetsig\")\n",
    "    "
   ]
  },
  {
   "cell_type": "code",
   "execution_count": 1,
   "metadata": {
    "tags": []
   },
   "outputs": [
    {
     "output_type": "stream",
     "name": "stdout",
     "text": "Noll, vad förväntar du dig\n"
    }
   ],
   "source": [
    "Tal = float(input(\"Ange ett tal\"))\n",
    "\n",
    "if Tal > 0:\n",
    "    print(\"Talet är positivt\")\n",
    "elif Tal < 0:\n",
    "    print(\"Talet är negativt\")\n",
    "else:\n",
    "    print(\"Noll, vad förväntade du dig?\")"
   ]
  },
  {
   "cell_type": "code",
   "execution_count": 19,
   "metadata": {
    "tags": []
   },
   "outputs": [
    {
     "output_type": "stream",
     "name": "stdout",
     "text": "Talet är jämnt\nTalet är delbart med fem\n"
    }
   ],
   "source": [
    "Tal = int(input(\"Ange ett tal\"))\n",
    "\n",
    "if Tal%2==0:\n",
    "    print(\"Talet är jämnt\")\n",
    "else:\n",
    "    print(\"Talet är udda\")\n",
    "if Tal%5==0:\n",
    "    print(\"Talet är delbart med fem\")\n",
    "else:\n",
    "    print(\"Talet är inte delbart med fem\") "
   ]
  },
  {
   "cell_type": "code",
   "execution_count": 28,
   "metadata": {
    "tags": []
   },
   "outputs": [
    {
     "output_type": "stream",
     "name": "stdout",
     "text": "2 är störst\n"
    }
   ],
   "source": [
    "Tal1 = int(input(\"Ange ett tal\"))\n",
    "Tal2 = int(input(\"Ange ett tal\"))\n",
    "Tal3 = int(input(\"Ange ett tal\"))\n",
    "Tal4 = int(input(\"Ange ett tal\"))\n",
    "\n",
    "if Tal1 > Tal2 and Tal1 > Tal3 and Tal1 > Tal4:\n",
    "    print(f\"{Tal1} är störst\")\n",
    "if Tal2 > Tal1 and Tal2 > Tal3 and Tal2 > Tal4:\n",
    "    print(f\"{Tal2} är störst\")\n",
    "if Tal3 > Tal1 and Tal3 > Tal2 and Tal3 > Tal4:\n",
    "    print(f\"{Tal3} är störst\")\n",
    "if Tal4 > Tal1 and Tal4 > Tal2 and Tal4 > Tal3:\n",
    "    print(f\"{Tal4} är störst\")"
   ]
  },
  {
   "cell_type": "code",
   "execution_count": null,
   "metadata": {},
   "outputs": [],
   "source": []
  }
 ]
}