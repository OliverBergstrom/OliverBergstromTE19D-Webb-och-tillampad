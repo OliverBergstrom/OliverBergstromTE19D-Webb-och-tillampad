{
 "metadata": {
  "language_info": {
   "codemirror_mode": {
    "name": "ipython",
    "version": 3
   },
   "file_extension": ".py",
   "mimetype": "text/x-python",
   "name": "python",
   "nbconvert_exporter": "python",
   "pygments_lexer": "ipython3",
   "version": "3.8.3-final"
  },
  "orig_nbformat": 2,
  "kernelspec": {
   "name": "python_defaultSpec_1605517431954",
   "display_name": "Python 3.8.3 64-bit ('oliver.bergstrom1': virtualenv)"
  }
 },
 "nbformat": 4,
 "nbformat_minor": 2,
 "cells": [
  {
   "source": [
    "# strängar python\n"
   ],
   "cell_type": "markdown",
   "metadata": {}
  },
  {
   "source": [
    "# konkatenering"
   ],
   "cell_type": "markdown",
   "metadata": {}
  },
  {
   "cell_type": "code",
   "execution_count": 7,
   "metadata": {
    "tags": []
   },
   "outputs": [
    {
     "output_type": "error",
     "ename": "TypeError",
     "evalue": "can only concatenate str (not \"int\") to str",
     "traceback": [
      "\u001b[1;31m---------------------------------------------------------------------------\u001b[0m",
      "\u001b[1;31mTypeError\u001b[0m                                 Traceback (most recent call last)",
      "\u001b[1;32m<ipython-input-7-c7f30a653256>\u001b[0m in \u001b[0;36m<module>\u001b[1;34m\u001b[0m\n\u001b[0;32m      5\u001b[0m \u001b[1;31m# konkatenering\u001b[0m\u001b[1;33m\u001b[0m\u001b[1;33m\u001b[0m\u001b[1;33m\u001b[0m\u001b[0m\n\u001b[0;32m      6\u001b[0m \u001b[0mnamn\u001b[0m \u001b[1;33m=\u001b[0m \u001b[0mförnamn\u001b[0m \u001b[1;33m+\u001b[0m \u001b[1;34m\" \"\u001b[0m \u001b[1;33m+\u001b[0m \u001b[0mefternamn\u001b[0m\u001b[1;33m\u001b[0m\u001b[1;33m\u001b[0m\u001b[0m\n\u001b[1;32m----> 7\u001b[1;33m \u001b[0mperson\u001b[0m \u001b[1;33m=\u001b[0m \u001b[1;34m\"namn: \\t\"\u001b[0m \u001b[1;33m+\u001b[0m \u001b[0mnamn\u001b[0m \u001b[1;33m+\u001b[0m\u001b[1;34m\"\\n\"\u001b[0m\u001b[1;33m+\u001b[0m \u001b[1;34m\"ålder: \\t\"\u001b[0m \u001b[1;33m+\u001b[0m \u001b[0målder\u001b[0m \u001b[1;31m# konkatenerat med en nyrad (escapesekvens)\u001b[0m\u001b[1;33m\u001b[0m\u001b[1;33m\u001b[0m\u001b[0m\n\u001b[0m\u001b[0;32m      8\u001b[0m \u001b[1;33m\u001b[0m\u001b[0m\n\u001b[0;32m      9\u001b[0m \u001b[0mprint\u001b[0m\u001b[1;33m(\u001b[0m\u001b[0mperson\u001b[0m\u001b[1;33m)\u001b[0m\u001b[1;33m\u001b[0m\u001b[1;33m\u001b[0m\u001b[0m\n",
      "\u001b[1;31mTypeError\u001b[0m: can only concatenate str (not \"int\") to str"
     ]
    }
   ],
   "source": [
    "förnamn = \"Oliver\"\n",
    "efternamn = \"Bergström\"\n",
    "ålder = 17\n",
    "\n",
    "# konkatenering\n",
    "namn = förnamn + \" \" + efternamn\n",
    "person = \"namn: \\t\" + namn +\"\\n\"+ \"ålder: \\t\" + ålder # konkatenerat med en nyrad (escapesekvens)\n",
    "\n",
    "print(person)"
   ]
  },
  {
   "source": [
    "# indexering"
   ],
   "cell_type": "markdown",
   "metadata": {}
  },
  {
   "cell_type": "code",
   "execution_count": 13,
   "metadata": {
    "tags": []
   },
   "outputs": [
    {
     "output_type": "stream",
     "name": "stdout",
     "text": "Antalet bokstäver i alfabetet är: 29\nBokstav på index 0: a\nBokstav på index 8: i\nBokstav på index -2: ä\nAlfabetet baklänges: öäåzyxwvutsrqponmlkjihgfedcba\n"
    }
   ],
   "source": [
    "alfabet = \"abcdefghijklmnopqrstuvwxyzåäö\"\n",
    "antal_bokstäver = len(alfabet)\n",
    "\n",
    "print(f\"Antalet bokstäver i alfabetet är: {antal_bokstäver}\")\n",
    "print(f\"Bokstav på index 0: {alfabet[0]}\")\n",
    "print(f\"Bokstav på index 8: {alfabet[8]}\")\n",
    "print(f\"Bokstav på index -2: {alfabet[-2]}\")\n",
    "print(f\"Alfabetet baklänges: {alfabet[::-1]}\")"
   ]
  },
  {
   "source": [
    "# split()"
   ],
   "cell_type": "markdown",
   "metadata": {}
  },
  {
   "cell_type": "code",
   "execution_count": 25,
   "metadata": {
    "tags": []
   },
   "outputs": [
    {
     "output_type": "stream",
     "name": "stdout",
     "text": "matte fysik programmering svenska\n['matte', 'fysik', 'programmering', 'svenska']\nJag gillar matte\nJag gillar fysik\nJag gillar programmering\nJag gillar svenska\n"
    }
   ],
   "source": [
    "favoritämnen = \"matte, fysik, programmering, svenska\"\n",
    "\n",
    "print(favoritämnen)\n",
    "\n",
    "ämnen_lista = favoritämnen.split(\", \")\n",
    "\n",
    "print(ämnen_lista)\n",
    "ämnen_lista[2]\n",
    "\n",
    "for ämne in ämnen_lista:\n",
    "    print(f\"Jag gillar {ämne}\")"
   ]
  },
  {
   "cell_type": "code",
   "execution_count": 22,
   "metadata": {
    "tags": []
   },
   "outputs": [
    {
     "output_type": "stream",
     "name": "stdout",
     "text": "Antalet bokstäver i namnet: 3\n"
    }
   ],
   "source": [
    "# 1\n",
    "\n",
    "namn = input(\"skriv ditt namn\")\n",
    "antal_bokstäver = len(namn)\n",
    "\n",
    "print(f\"Antalet bokstäver i namnet: {antal_bokstäver}\")"
   ]
  },
  {
   "cell_type": "code",
   "execution_count": 32,
   "metadata": {
    "tags": []
   },
   "outputs": [
    {
     "output_type": "stream",
     "name": "stdout",
     "text": "Antalet bokstäver i meningen: 64\n"
    }
   ],
   "source": [
    "# 2\n",
    "\n",
    "mening = (\"En bild säger mer än tusen ord, en matematisk formel säger mer än tusen bilder\")\n",
    "antal_bokstäver = len(mening) - mening.count(\" \")\n",
    "\n",
    "print(f\"Antalet bokstäver i meningen: {antal_bokstäver}\")"
   ]
  },
  {
   "cell_type": "code",
   "execution_count": null,
   "metadata": {},
   "outputs": [],
   "source": []
  }
 ]
}