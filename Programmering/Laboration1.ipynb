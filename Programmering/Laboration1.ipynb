{
 "metadata": {
  "language_info": {
   "codemirror_mode": {
    "name": "ipython",
    "version": 3
   },
   "file_extension": ".py",
   "mimetype": "text/x-python",
   "name": "python",
   "nbconvert_exporter": "python",
   "pygments_lexer": "ipython3",
   "version": "3.8.3-final"
  },
  "orig_nbformat": 2,
  "kernelspec": {
   "name": "python3",
   "display_name": "Python 3"
  }
 },
 "nbformat": 4,
 "nbformat_minor": 2,
 "cells": [
  {
   "cell_type": "code",
   "execution_count": null,
   "metadata": {},
   "outputs": [],
   "source": [
    "# Uppfit 1 - simulering"
   ]
  },
  {
   "cell_type": "code",
   "execution_count": 3,
   "metadata": {
    "tags": []
   },
   "outputs": [
    {
     "output_type": "stream",
     "name": "stdout",
     "text": "Avståndet är 0.7071067811865476\n"
    }
   ],
   "source": [
    "# a)\n",
    "\n",
    "import math\n",
    "\n",
    "k = 0.5**2 + 0.5**2\n",
    "\n",
    "svar = math.sqrt(k)\n",
    "\n",
    "print(f\"Avståndet är {svar}\")"
   ]
  },
  {
   "cell_type": "code",
   "execution_count": 4,
   "metadata": {
    "tags": []
   },
   "outputs": [
    {
     "output_type": "stream",
     "name": "stdout",
     "text": "Avståndet är 1.4142135623730951\n"
    }
   ],
   "source": [
    "# b)\n",
    "\n",
    "import math\n",
    "\n",
    "k = 1**2 + 1**2\n",
    "\n",
    "svar = math.sqrt(k)\n",
    "\n",
    "print(f\"Avståndet är {svar}\")"
   ]
  },
  {
   "cell_type": "code",
   "execution_count": 9,
   "metadata": {
    "tags": []
   },
   "outputs": [
    {
     "output_type": "stream",
     "name": "stdout",
     "text": "Avståndet är 0.7071067811865476\n"
    }
   ],
   "source": [
    "# c)\n",
    "\n",
    "import math\n",
    "\n",
    "x = 0.5**2\n",
    "\n",
    "y = 0 - 0.5\n",
    "\n",
    "k = x + y**2\n",
    "\n",
    "svar = math.sqrt(k)\n",
    "\n",
    "print(f\"Avståndet är {svar}\")"
   ]
  },
  {
   "cell_type": "code",
   "execution_count": 29,
   "metadata": {
    "tags": []
   },
   "outputs": [
    {
     "output_type": "stream",
     "name": "stdout",
     "text": "x = [ 0.70460577  0.22858775  0.12695949 -0.18122814  0.98859132] y = [ 0.49335071  0.22768975 -0.58664538 -0.16461185 -0.88951268]\n"
    }
   ],
   "source": [
    "# d)\n",
    "\n",
    "import random\n",
    "import numpy as np\n",
    "\n",
    "x = np.random.uniform(-1,1,5) # slumpa 5 stycken x värden mellan -1 och 1\n",
    "y = np.random.uniform(-1,1,5) # slumpa 5 stycken y värden mellan -1 och 1\n",
    "\n",
    "\n",
    "print(f\"x = {x} y = {y}\")\n",
    "\n"
   ]
  },
  {
   "cell_type": "code",
   "execution_count": 44,
   "metadata": {},
   "outputs": [
    {
     "output_type": "error",
     "ename": "SyntaxError",
     "evalue": "invalid syntax (<ipython-input-44-e34253e05ab8>, line 16)",
     "traceback": [
      "\u001b[1;36m  File \u001b[1;32m\"<ipython-input-44-e34253e05ab8>\"\u001b[1;36m, line \u001b[1;32m16\u001b[0m\n\u001b[1;33m    else: i + 1\u001b[0m\n\u001b[1;37m    ^\u001b[0m\n\u001b[1;31mSyntaxError\u001b[0m\u001b[1;31m:\u001b[0m invalid syntax\n"
     ]
    }
   ],
   "source": [
    "# e)\n",
    "\n",
    "import random\n",
    "import math\n",
    "import numpy as np\n",
    "\n",
    "i = 0\n",
    "\n",
    "x = np.random.uniform(-1,1,5)\n",
    "y = np.random.uniform(-1,1,5)\n",
    "\n",
    "avstånd = np.sqrt(x**2+y**2)\n",
    "\n",
    "if avstånd > 1:\n",
    "    pass\n",
    "    else: i + 1\n",
    "k = i/5\n",
    "\n",
    "print(k)\n"
   ]
  },
  {
   "cell_type": "code",
   "execution_count": null,
   "metadata": {},
   "outputs": [],
   "source": []
  }
 ]
}