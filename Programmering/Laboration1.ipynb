{
 "metadata": {
  "language_info": {
   "codemirror_mode": {
    "name": "ipython",
    "version": 3
   },
   "file_extension": ".py",
   "mimetype": "text/x-python",
   "name": "python",
   "nbconvert_exporter": "python",
   "pygments_lexer": "ipython3",
   "version": "3.8.3-final"
  },
  "orig_nbformat": 2,
  "kernelspec": {
   "name": "python3",
   "display_name": "Python 3"
  }
 },
 "nbformat": 4,
 "nbformat_minor": 2,
 "cells": [
  {
   "cell_type": "code",
   "execution_count": null,
   "metadata": {},
   "outputs": [],
   "source": [
    "# Uppfit 1 - simulering"
   ]
  },
  {
   "cell_type": "code",
   "execution_count": 3,
   "metadata": {
    "tags": []
   },
   "outputs": [
    {
     "output_type": "stream",
     "name": "stdout",
     "text": "Avståndet är 0.7071067811865476\n"
    }
   ],
   "source": [
    "# a)\n",
    "\n",
    "import math\n",
    "\n",
    "k = 0.5**2 + 0.5**2\n",
    "\n",
    "svar = math.sqrt(k)\n",
    "\n",
    "print(f\"Avståndet är {svar}\")"
   ]
  },
  {
   "cell_type": "code",
   "execution_count": 4,
   "metadata": {
    "tags": []
   },
   "outputs": [
    {
     "output_type": "stream",
     "name": "stdout",
     "text": "Avståndet är 1.4142135623730951\n"
    }
   ],
   "source": [
    "# b)\n",
    "\n",
    "import math\n",
    "\n",
    "k = 1**2 + 1**2\n",
    "\n",
    "svar = math.sqrt(k)\n",
    "\n",
    "print(f\"Avståndet är {svar}\")"
   ]
  },
  {
   "cell_type": "code",
   "execution_count": 9,
   "metadata": {
    "tags": []
   },
   "outputs": [
    {
     "output_type": "stream",
     "name": "stdout",
     "text": "Avståndet är 0.7071067811865476\n"
    }
   ],
   "source": [
    "# c)\n",
    "\n",
    "import math\n",
    "\n",
    "x = 0.5**2\n",
    "\n",
    "y = 0 - 0.5\n",
    "\n",
    "k = x + y**2\n",
    "\n",
    "svar = math.sqrt(k)\n",
    "\n",
    "print(f\"Avståndet är {svar}\")"
   ]
  },
  {
   "cell_type": "code",
   "execution_count": 24,
   "metadata": {
    "tags": []
   },
   "outputs": [
    {
     "output_type": "stream",
     "name": "stdout",
     "text": "x = 0.4802124870046316, y = -0.8746270045123661\n"
    }
   ],
   "source": [
    "# d)\n",
    "\n",
    "import random\n",
    "\n",
    "x = random.uniform(-1,1)\n",
    "y = random.uniform(-1,1)\n",
    "\n",
    "print(f\"x = {x}, y = {y}\")\n",
    "\n"
   ]
  },
  {
   "cell_type": "code",
   "execution_count": null,
   "metadata": {},
   "outputs": [],
   "source": [
    "# e)\n",
    "\n"
   ]
  }
 ]
}