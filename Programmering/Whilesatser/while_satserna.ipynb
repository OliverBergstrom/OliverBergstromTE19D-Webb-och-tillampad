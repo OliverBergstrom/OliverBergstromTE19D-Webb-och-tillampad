{
 "metadata": {
  "language_info": {
   "codemirror_mode": {
    "name": "ipython",
    "version": 3
   },
   "file_extension": ".py",
   "mimetype": "text/x-python",
   "name": "python",
   "nbconvert_exporter": "python",
   "pygments_lexer": "ipython3",
   "version": "3.8.3-final"
  },
  "orig_nbformat": 2,
  "kernelspec": {
   "name": "python3",
   "display_name": "Python 3"
  }
 },
 "nbformat": 4,
 "nbformat_minor": 2,
 "cells": [
  {
   "cell_type": "code",
   "execution_count": 11,
   "metadata": {
    "tags": []
   },
   "outputs": [
    {
     "output_type": "stream",
     "name": "stdout",
     "text": "5050"
    }
   ],
   "source": [
    "# uppgift 1\n",
    "\n",
    "n = 0\n",
    "\n",
    "y = 0\n",
    "\n",
    "while n < 100:\n",
    "    n += 1 # räknare, ökar varje gång\n",
    "\n",
    "    y = y + n # summa   \n",
    "\n",
    "print(y, end = \" \")"
   ]
  },
  {
   "cell_type": "code",
   "execution_count": 15,
   "metadata": {
    "tags": []
   },
   "outputs": [
    {
     "output_type": "stream",
     "name": "stdout",
     "text": "2499"
    }
   ],
   "source": [
    "# uppgift 2\n",
    "\n",
    "n = 1\n",
    "\n",
    "y = 0\n",
    "\n",
    "while n < 99:\n",
    "    n += 2\n",
    "\n",
    "    y = y + n\n",
    "\n",
    "print(y, end = \" \")"
   ]
  },
  {
   "cell_type": "code",
   "execution_count": 35,
   "metadata": {
    "tags": []
   },
   "outputs": [
    {
     "output_type": "error",
     "ename": "IndentationError",
     "evalue": "unexpected indent (<ipython-input-35-71bdae56c351>, line 9)",
     "traceback": [
      "\u001b[1;36m  File \u001b[1;32m\"<ipython-input-35-71bdae56c351>\"\u001b[1;36m, line \u001b[1;32m9\u001b[0m\n\u001b[1;33m    if Gissning < Tal:\u001b[0m\n\u001b[1;37m    ^\u001b[0m\n\u001b[1;31mIndentationError\u001b[0m\u001b[1;31m:\u001b[0m unexpected indent\n"
     ]
    }
   ],
   "source": [
    "# uppgift 5\n",
    "\n",
    "Tal = 88\n",
    "\n",
    "Gissning = int(input(\"Skriv din gissning\"))\n",
    "\n"
   ]
  },
  {
   "cell_type": "code",
   "execution_count": null,
   "metadata": {},
   "outputs": [],
   "source": []
  }
 ]
}