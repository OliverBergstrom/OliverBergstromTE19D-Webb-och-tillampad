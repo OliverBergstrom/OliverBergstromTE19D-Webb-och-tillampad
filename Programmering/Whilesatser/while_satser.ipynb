{
 "metadata": {
  "language_info": {
   "codemirror_mode": {
    "name": "ipython",
    "version": 3
   },
   "file_extension": ".py",
   "mimetype": "text/x-python",
   "name": "python",
   "nbconvert_exporter": "python",
   "pygments_lexer": "ipython3",
   "version": "3.8.3-final"
  },
  "orig_nbformat": 2,
  "kernelspec": {
   "name": "python3",
   "display_name": "Python 3"
  }
 },
 "nbformat": 4,
 "nbformat_minor": 2,
 "cells": [
  {
   "cell_type": "code",
   "execution_count": 1,
   "metadata": {
    "tags": []
   },
   "outputs": [
    {
     "output_type": "stream",
     "name": "stdout",
     "text": [
      "5050 "
     ]
    }
   ],
   "source": [
    "# 1\n",
    "n = 0\n",
    "\n",
    "y = 0\n",
    "\n",
    "while n < 100:\n",
    "    n += 1 # räknare, ökar varje gång\n",
    "\n",
    "    y = y + n # summa   \n",
    "\n",
    "print(y, end = \" \")"
   ]
  },
  {
   "cell_type": "code",
   "execution_count": 1,
   "metadata": {
    "tags": []
   },
   "outputs": [
    {
     "output_type": "stream",
     "name": "stdout",
     "text": "2499"
    }
   ],
   "source": [
    "# 2\n",
    "n = 1\n",
    "\n",
    "y = 0\n",
    "\n",
    "while n < 99:\n",
    "    n += 2\n",
    "\n",
    "    y = y + n\n",
    "\n",
    "print(y, end = \" \")"
   ]
  },
  {
   "cell_type": "code",
   "execution_count": 9,
   "metadata": {
    "tags": []
   },
   "outputs": [
    {
     "output_type": "stream",
     "name": "stdout",
     "text": "Fel, gissa högre\nFel, gissa lägre\nDu gissade rätt\n"
    }
   ],
   "source": [
    "# 5\n",
    "nummer = 88\n",
    "\n",
    "while Gissning != nummer:\n",
    "\n",
    "    Gissning = int(input(\"skriv din gissning\"))\n",
    "\n",
    "    if (Gissning == nummer):\n",
    "        print(\"Du gissade rätt\")\n",
    "    if (Gissning > nummer):\n",
    "        print(\"Fel, gissa lägre\")\n",
    "    if (Gissning < nummer):\n",
    "        print (\"Fel, gissa högre\")"
   ]
  },
  {
   "cell_type": "code",
   "execution_count": null,
   "metadata": {},
   "outputs": [],
   "source": []
  }
 ]
}