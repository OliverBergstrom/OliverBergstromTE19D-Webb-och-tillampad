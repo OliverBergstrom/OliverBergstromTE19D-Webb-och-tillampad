{
 "metadata": {
  "language_info": {
   "codemirror_mode": {
    "name": "ipython",
    "version": 3
   },
   "file_extension": ".py",
   "mimetype": "text/x-python",
   "name": "python",
   "nbconvert_exporter": "python",
   "pygments_lexer": "ipython3",
   "version": "3.8.3-final"
  },
  "orig_nbformat": 2,
  "kernelspec": {
   "name": "python3",
   "display_name": "Python 3"
  }
 },
 "nbformat": 4,
 "nbformat_minor": 2,
 "cells": [
  {
   "cell_type": "code",
   "execution_count": 43,
   "metadata": {
    "tags": []
   },
   "outputs": [
    {
     "output_type": "stream",
     "name": "stdout",
     "text": "Eleven Kokchun fick 59 poäng, vilket ger betyget B\nEleven Henrik fick 4 poäng, vilket ger betyget F\nEleven Tommy fick 20 poäng, vilket ger betyget F\nEleven Zsofia fick 19 poäng, vilket ger betyget F\n"
    }
   ],
   "source": [
    "import random as rnd\n",
    "\n",
    "for elev in klass:\n",
    "\n",
    "    # slumpar ett heltal mellan 0 och 65\n",
    "    poang = rnd.randint(0,65)\n",
    "\n",
    "    # lista av elever\n",
    "    klass = [\"Kokchun\", \"Henrik\", \"Tommy\", \"Zsofia\"]\n",
    "\n",
    "    if (poang > 60):\n",
    "        betyg = \"A\"\n",
    "    elif (poang >= 56):\n",
    "        betyg = \"B\"\n",
    "    elif (poang >= 51):\n",
    "        betyg = \"C\"\n",
    "    elif (poang >= 41):\n",
    "        betyg = \"D\"\n",
    "    elif (poang >= 31):\n",
    "        betyg = \"E\"\n",
    "    else:\n",
    "        betyg = \"F\"\n",
    "\n",
    "    # slumpvis väljer element i listan klass\n",
    "    #elev = rnd.choice(klass)\n",
    "\n",
    "    print(f\"Eleven {elev} fick {poang} poäng, vilket ger betyget {betyg}\")\n",
    "\n",
    "    # frivilligt: utöka det här programmet med en for-sats och skriv ut alla elever, deras poäng och betyg\n",
    "\n",
    "\n",
    "\n",
    "\n"
   ]
  },
  {
   "cell_type": "code",
   "execution_count": null,
   "metadata": {},
   "outputs": [],
   "source": []
  }
 ]
}