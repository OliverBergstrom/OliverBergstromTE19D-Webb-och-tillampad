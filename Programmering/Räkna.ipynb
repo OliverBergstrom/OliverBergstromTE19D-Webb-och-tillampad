{
 "metadata": {
  "language_info": {
   "codemirror_mode": {
    "name": "ipython",
    "version": 3
   },
   "file_extension": ".py",
   "mimetype": "text/x-python",
   "name": "python",
   "nbconvert_exporter": "python",
   "pygments_lexer": "ipython3",
   "version": "3.8.3-final"
  },
  "orig_nbformat": 2,
  "kernelspec": {
   "name": "python3",
   "display_name": "Python 3"
  }
 },
 "nbformat": 4,
 "nbformat_minor": 2,
 "cells": [
  {
   "cell_type": "code",
   "execution_count": 2,
   "metadata": {
    "tags": []
   },
   "outputs": [
    {
     "output_type": "stream",
     "name": "stdout",
     "text": "hej\n"
    }
   ],
   "source": [
    "print (\"hej\")"
   ]
  },
  {
   "cell_type": "code",
   "execution_count": 6,
   "metadata": {
    "tags": []
   },
   "outputs": [
    {
     "output_type": "stream",
     "name": "stdout",
     "text": "hej Oliver\n"
    }
   ],
   "source": [
    "name = \"Oliver\"\n",
    "\n",
    "print(f\"hej {name}\")"
   ]
  },
  {
   "cell_type": "code",
   "execution_count": 10,
   "metadata": {
    "tags": []
   },
   "outputs": [
    {
     "output_type": "stream",
     "name": "stdout",
     "text": "Din tyngdkraft är 599.02N\nDin tyngdkraft är 599.02 N\n"
    }
   ],
   "source": [
    "g = 9.82\n",
    "m = float(input(\"Ange din vikt i kg: \"))\n",
    "\n",
    "F = m*g\n",
    "\n",
    "print(f\"Din tyngdkraft är {F}N\") # f-sting\n",
    "print(\"Din tyngdkraft är\",F,\"N\") # utan f-string"
   ]
  },
  {
   "cell_type": "code",
   "execution_count": 12,
   "metadata": {
    "tags": []
   },
   "outputs": [
    {
     "output_type": "stream",
     "name": "stdout",
     "text": "0.53 = 53.0%\n"
    }
   ],
   "source": [
    "tal = float(input(\"Ange ett decimaltal\")) # behöver typomvandla str --> float\n",
    "procent = tal*100\n",
    "\n",
    "print(f\"{tal} = {procent}%\")"
   ]
  },
  {
   "cell_type": "code",
   "execution_count": 18,
   "metadata": {
    "tags": []
   },
   "outputs": [
    {
     "output_type": "stream",
     "name": "stdout",
     "text": "0.0 = -273.15\n"
    }
   ],
   "source": [
    "Kelvin = float(input(\"Ange temperatur i kelvin\"))\n",
    "\n",
    "Celsius = Kelvin-273.15\n",
    "\n",
    "print(f\"{Kelvin} = {Celsius}\")"
   ]
  },
  {
   "cell_type": "code",
   "execution_count": 19,
   "metadata": {
    "tags": []
   },
   "outputs": [
    {
     "output_type": "stream",
     "name": "stdout",
     "text": "0.0 = 273.15\n"
    }
   ],
   "source": [
    "Celsius = float(input(\"Ange temperatur i celsius\"))\n",
    "\n",
    "Kelvin = Celsius+273.15\n",
    "\n",
    "print(f\"{Celsius} = {Kelvin}\")"
   ]
  },
  {
   "cell_type": "code",
   "execution_count": 26,
   "metadata": {
    "tags": []
   },
   "outputs": [
    {
     "output_type": "stream",
     "name": "stdout",
     "text": "Totala kostnaden är 3000.0kr\nMånadskort vore mer prisvärt\n"
    }
   ],
   "source": [
    "Turer = float(input(\"Ange hur många gånger du åker med västtrafik\"))\n",
    "\n",
    "Biljett1 = 30\n",
    "\n",
    "Total1 = Biljett1*Turer\n",
    "\n",
    "print(f\"Totala kostnaden är {Total1}kr\")\n",
    "\n",
    "if Total1 > 775:print(\"Månadskort vore mer prisvärt\")"
   ]
  }
 ]
}