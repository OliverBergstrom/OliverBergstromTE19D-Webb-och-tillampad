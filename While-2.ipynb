{
 "metadata": {
  "language_info": {
   "codemirror_mode": {
    "name": "ipython",
    "version": 3
   },
   "file_extension": ".py",
   "mimetype": "text/x-python",
   "name": "python",
   "nbconvert_exporter": "python",
   "pygments_lexer": "ipython3",
   "version": "3.8.3-final"
  },
  "orig_nbformat": 2,
  "kernelspec": {
   "name": "python3",
   "display_name": "Python 3"
  }
 },
 "nbformat": 4,
 "nbformat_minor": 2,
 "cells": [
  {
   "source": [
    "# while-sats genomgång\n",
    "\n",
    "### ränta på ränta\n",
    "\n",
    "### varje år sätter vi in 1000 kr\n",
    "\n",
    "### årlig ränta är 2%\n",
    "\n",
    "### efter hur många insättningar kommer vi nå 10000"
   ],
   "cell_type": "markdown",
   "metadata": {}
  },
  {
   "cell_type": "code",
   "execution_count": 6,
   "metadata": {
    "tags": []
   },
   "outputs": [
    {
     "output_type": "stream",
     "name": "stdout",
     "text": "Antal år 35\n"
    }
   ],
   "source": [
    "insättning = 1000\n",
    "förändringsfaktor = 1.02\n",
    "år = 0\n",
    "\n",
    "\n",
    "while insättning < 50000:\n",
    "    insättning = insättning*förändringsfaktor + 1000\n",
    "    år += 1 # år ökar med ett\n",
    "\n",
    "print(f\"Antal år {år}\")"
   ]
  },
  {
   "source": [
    "'''\n",
    "    1L mjölk innehåller 1500000 bakterier i rumstemp.\n",
    "    Bakterierna att öka 50% per timme.\n",
    "    Mjölken blir sure när bakterierna överstiger 10000000.\n",
    "    Hur många timmar tar det tills mjölken surnar till?\n",
    "'''\n"
   ],
   "cell_type": "code",
   "metadata": {},
   "execution_count": 7,
   "outputs": [
    {
     "output_type": "execute_result",
     "data": {
      "text/plain": "'\\n    1L mjölk innehåller 1500000 bakterier i rumstemp.\\n    Bakterierna att öka 50% per timme.\\n    Mjölken blir sure när bakterierna överstiger 10000000.\\n    Hur många timmar tar det tills mjölken surnar till?\\n'"
     },
     "metadata": {},
     "execution_count": 7
    }
   ]
  },
  {
   "cell_type": "code",
   "execution_count": 9,
   "metadata": {
    "tags": []
   },
   "outputs": [
    {
     "output_type": "stream",
     "name": "stdout",
     "text": "Antal timmar: 5\n"
    }
   ],
   "source": [
    "Bakterier = 1500000\n",
    "Ökning = 1.5\n",
    "Timmar = 0\n",
    "\n",
    "while Bakterier < 10000000:\n",
    "    Bakterier = Bakterier*Ökning\n",
    "    Timmar += 1\n",
    "\n",
    "print (f\"Antal timmar: {Timmar}\")"
   ]
  },
  {
   "cell_type": "code",
   "execution_count": null,
   "metadata": {},
   "outputs": [],
   "source": []
  }
 ]
}