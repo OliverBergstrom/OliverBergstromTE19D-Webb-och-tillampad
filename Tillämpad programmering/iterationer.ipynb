{
 "metadata": {
  "language_info": {
   "codemirror_mode": {
    "name": "ipython",
    "version": 3
   },
   "file_extension": ".py",
   "mimetype": "text/x-python",
   "name": "python",
   "nbconvert_exporter": "python",
   "pygments_lexer": "ipython3",
   "version": "3.8.3-final"
  },
  "orig_nbformat": 2,
  "kernelspec": {
   "name": "python3",
   "display_name": "Python 3"
  }
 },
 "nbformat": 4,
 "nbformat_minor": 2,
 "cells": [
  {
   "cell_type": "code",
   "execution_count": 1,
   "metadata": {
    "tags": []
   },
   "outputs": [
    {
     "output_type": "stream",
     "name": "stdout",
     "text": "1\n3\n5\n7\n9\n945\n"
    }
   ],
   "source": [
    "summa = 1\n",
    "\n",
    "for i in range (1,11,2):\n",
    "    print(i)\n",
    "    summa=summa*i\n",
    "    \n",
    "print(f\"{summa}\")"
   ]
  },
  {
   "cell_type": "code",
   "execution_count": 17,
   "metadata": {
    "tags": []
   },
   "outputs": [
    {
     "output_type": "stream",
     "name": "stdout",
     "text": "antalet pengar efter 15 år 15579.67416600765\n"
    }
   ],
   "source": [
    "insättning = 10000\n",
    "förändringsfaktor = 1.03\n",
    "år = 0\n",
    "\n",
    "for i in range(15):\n",
    "    insättning = insättning*förändringsfaktor\n",
    "    år+=1\n",
    "\n",
    "print(f\"antalet pengar efter 15 år {insättning}\")"
   ]
  },
  {
   "cell_type": "code",
   "execution_count": 22,
   "metadata": {
    "tags": []
   },
   "outputs": [
    {
     "output_type": "stream",
     "name": "stdout",
     "text": "1\t2\t3\t4\t5\t6\t7\t8\t9\t10\t11\t12\t13\t14\t15\t\n2\t4\t6\t8\t10\t12\t14\t16\t18\t20\t22\t24\t26\t28\t30\t\n3\t6\t9\t12\t15\t18\t21\t24\t27\t30\t33\t36\t39\t42\t45\t\n4\t8\t12\t16\t20\t24\t28\t32\t36\t40\t44\t48\t52\t56\t60\t\n5\t10\t15\t20\t25\t30\t35\t40\t45\t50\t55\t60\t65\t70\t75\t\n6\t12\t18\t24\t30\t36\t42\t48\t54\t60\t66\t72\t78\t84\t90\t\n7\t14\t21\t28\t35\t42\t49\t56\t63\t70\t77\t84\t91\t98\t105\t\n8\t16\t24\t32\t40\t48\t56\t64\t72\t80\t88\t96\t104\t112\t120\t\n9\t18\t27\t36\t45\t54\t63\t72\t81\t90\t99\t108\t117\t126\t135\t\n10\t20\t30\t40\t50\t60\t70\t80\t90\t100\t110\t120\t130\t140\t150\t\n11\t22\t33\t44\t55\t66\t77\t88\t99\t110\t121\t132\t143\t154\t165\t\n12\t24\t36\t48\t60\t72\t84\t96\t108\t120\t132\t144\t156\t168\t180\t\n13\t26\t39\t52\t65\t78\t91\t104\t117\t130\t143\t156\t169\t182\t195\t\n14\t28\t42\t56\t70\t84\t98\t112\t126\t140\t154\t168\t182\t196\t210\t\n15\t30\t45\t60\t75\t90\t105\t120\t135\t150\t165\t180\t195\t210\t225\t\n"
    }
   ],
   "source": [
    "# m04u03\n",
    "# m04u03b\n",
    "\n",
    "antal=int(input(\"skriv in ett positivt tal mellan 1 och 15\"))\n",
    "if 1 <= int(antal) <= 15:\n",
    "    for rad in range(1,antal+1):\n",
    "        for colum in range(1,antal+1):\n",
    "            print(rad*colum, end=\"\\t\")\n",
    "        print()\n",
    "else:\n",
    "    print(\"för stort tal\")"
   ]
  },
  {
   "cell_type": "code",
   "execution_count": 12,
   "metadata": {
    "tags": []
   },
   "outputs": [
    {
     "output_type": "stream",
     "name": "stdout",
     "text": "10\n9\n8\n7\n6\n5\n4\n3\n2\n1\n2\n"
    }
   ],
   "source": [
    "# m04u04\n",
    "\n",
    "tal = 11\n",
    "while tal > 1:\n",
    "    tal -= 1\n",
    "    print(tal)\n",
    "\n",
    "\n",
    "print(summa)"
   ]
  },
  {
   "cell_type": "code",
   "execution_count": 4,
   "metadata": {
    "tags": []
   },
   "outputs": [
    {
     "output_type": "stream",
     "name": "stdout",
     "text": "det tar 14 månader för populationen att bli en miljon\n"
    }
   ],
   "source": [
    "# m04u05\n",
    "\n",
    "månader = 0\n",
    "råttor = 100\n",
    "\n",
    "while råttor < 1000000:\n",
    "    råttor=råttor*2\n",
    "    månader+=1\n",
    "\n",
    "print(f\"det tar {månader} månader för populationen att bli över en miljon\")"
   ]
  },
  {
   "cell_type": "code",
   "execution_count": 14,
   "metadata": {
    "tags": []
   },
   "outputs": [
    {
     "output_type": "stream",
     "name": "stdout",
     "text": "antalet pengar efter 15 år 15579.67416600765\n"
    }
   ],
   "source": [
    "#m04e01\n",
    "\n",
    "insättning = 10000\n",
    "förändringsfaktor = 1.03\n",
    "år = 0\n",
    "\n",
    "while år < 15:\n",
    "    insättning = insättning*förändringsfaktor\n",
    "    år+=1\n",
    "\n",
    "print(f\"antalet pengar efter 15 år {insättning}\")"
   ]
  },
  {
   "cell_type": "code",
   "execution_count": null,
   "metadata": {},
   "outputs": [],
   "source": []
  }
 ]
}