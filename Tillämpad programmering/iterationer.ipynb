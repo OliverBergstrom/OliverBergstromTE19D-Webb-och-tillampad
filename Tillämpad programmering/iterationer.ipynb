{
 "metadata": {
  "language_info": {
   "codemirror_mode": {
    "name": "ipython",
    "version": 3
   },
   "file_extension": ".py",
   "mimetype": "text/x-python",
   "name": "python",
   "nbconvert_exporter": "python",
   "pygments_lexer": "ipython3",
   "version": "3.8.3-final"
  },
  "orig_nbformat": 2,
  "kernelspec": {
   "name": "python3",
   "display_name": "Python 3"
  }
 },
 "nbformat": 4,
 "nbformat_minor": 2,
 "cells": [
  {
   "cell_type": "code",
   "execution_count": 1,
   "metadata": {
    "tags": []
   },
   "outputs": [
    {
     "output_type": "stream",
     "name": "stdout",
     "text": "1\n3\n5\n7\n9\n945\n"
    }
   ],
   "source": [
    "summa = 1\n",
    "\n",
    "for i in range (1,11,2):\n",
    "    print(i)\n",
    "    summa=summa*i\n",
    "    \n",
    "print(f\"{summa}\")"
   ]
  },
  {
   "cell_type": "code",
   "execution_count": 17,
   "metadata": {
    "tags": []
   },
   "outputs": [
    {
     "output_type": "stream",
     "name": "stdout",
     "text": "antalet pengar efter 15 år 15579.67416600765\n"
    }
   ],
   "source": [
    "insättning = 10000\n",
    "förändringsfaktor = 1.03\n",
    "år = 0\n",
    "\n",
    "for i in range(15):\n",
    "    insättning = insättning*förändringsfaktor\n",
    "    år+=1\n",
    "\n",
    "print(f\"antalet pengar efter 15 år {insättning}\")"
   ]
  },
  {
   "cell_type": "code",
   "execution_count": 1,
   "metadata": {
    "tags": []
   },
   "outputs": [
    {
     "output_type": "stream",
     "name": "stdout",
     "text": [
      "1\t2\t3\t4\t5\t6\t7\t8\t9\t10\t\n2\t4\t6\t8\t10\t12\t14\t16\t18\t20\t\n3\t6\t9\t12\t15\t18\t21\t24\t27\t30\t\n4\t8\t12\t16\t20\t24\t28\t32\t36\t40\t\n5\t10\t15\t20\t25\t30\t35\t40\t45\t50\t\n6\t12\t18\t24\t30\t36\t42\t48\t54\t60\t\n7\t14\t21\t28\t35\t42\t49\t56\t63\t70\t\n8\t16\t24\t32\t40\t48\t56\t64\t72\t80\t\n9\t18\t27\t36\t45\t54\t63\t72\t81\t90\t\n10\t20\t30\t40\t50\t60\t70\t80\t90\t100\t\n"
     ]
    }
   ],
   "source": [
    "# m04u03\n",
    "# m04u03b\n",
    "\n",
    "antal=int(input(\"skriv in ett positivt tal mellan 1 och 15\"))\n",
    "if 1 <= int(antal) <= 15:\n",
    "    for rad in range(1,antal+1):\n",
    "        for colum in range(1,antal+1):\n",
    "            print(rad*colum, end=\"\\t\")\n",
    "        print()\n",
    "else:\n",
    "    print(\"för stort tal\")"
   ]
  },
  {
   "cell_type": "code",
   "execution_count": 12,
   "metadata": {
    "tags": []
   },
   "outputs": [
    {
     "output_type": "stream",
     "name": "stdout",
     "text": "10\n9\n8\n7\n6\n5\n4\n3\n2\n1\n2\n"
    }
   ],
   "source": [
    "# m04u04\n",
    "\n",
    "tal = 11\n",
    "while tal > 1:\n",
    "    tal -= 1\n",
    "    print(tal)\n",
    "\n",
    "\n",
    "print(summa)"
   ]
  },
  {
   "cell_type": "code",
   "execution_count": 4,
   "metadata": {
    "tags": []
   },
   "outputs": [
    {
     "output_type": "stream",
     "name": "stdout",
     "text": "det tar 14 månader för populationen att bli en miljon\n"
    }
   ],
   "source": [
    "# m04u05\n",
    "\n",
    "månader = 0\n",
    "råttor = 100\n",
    "\n",
    "while råttor < 1000000:\n",
    "    råttor=råttor*2\n",
    "    månader+=1\n",
    "\n",
    "print(f\"det tar {månader} månader för populationen att bli över en miljon\")"
   ]
  },
  {
   "cell_type": "code",
   "execution_count": 14,
   "metadata": {
    "tags": []
   },
   "outputs": [
    {
     "output_type": "stream",
     "name": "stdout",
     "text": "antalet pengar efter 15 år 15579.67416600765\n"
    }
   ],
   "source": [
    "#m04e01\n",
    "\n",
    "insättning = 10000\n",
    "förändringsfaktor = 1.03\n",
    "år = 0\n",
    "\n",
    "while år < 15:\n",
    "    insättning = insättning*förändringsfaktor\n",
    "    år+=1\n",
    "\n",
    "print(f\"antalet pengar efter 15 år {insättning}\")"
   ]
  },
  {
   "cell_type": "code",
   "execution_count": 3,
   "metadata": {
    "tags": []
   },
   "outputs": [
    {
     "output_type": "stream",
     "name": "stdout",
     "text": "det tar 14 månader för populationen att bli över en miljon\n"
    }
   ],
   "source": [
    "# m04e02\n",
    "\n",
    "månader = 0\n",
    "råttor = 100\n",
    "\n",
    "for i in range(1000000000):\n",
    "    råttor=råttor*2\n",
    "    månader+=1\n",
    "    if råttor > 1000000:\n",
    "        break\n",
    "\n",
    "print(f\"det tar {månader} månader för populationen att bli över en miljon\")"
   ]
  },
  {
   "cell_type": "code",
   "execution_count": 10,
   "metadata": {
    "tags": []
   },
   "outputs": [
    {
     "output_type": "stream",
     "name": "stdout",
     "text": "1 1\n1 2\n1 3\n1 4\n1 5\n1 6\n1 7\n1 8\n1 9\n1 10\n2 1\n2 2\n2 3\n2 4\n2 5\n2 6\n2 7\n2 8\n2 9\n2 10\n3 1\n3 2\n3 3\n3 4\n3 5\n3 6\n3 7\n3 8\n3 9\n3 10\n4 1\n4 2\n4 3\n4 4\n4 5\n4 6\n4 7\n4 8\n4 9\n4 10\n5 1\n5 2\n5 3\n5 4\n5 5\n5 6\n5 7\n5 8\n5 9\n5 10\n6 1\n6 2\n6 3\n6 4\n6 5\n6 6\n6 7\n6 8\n6 9\n6 10\n7 1\n7 2\n7 3\n7 4\n7 5\n7 6\n7 7\n7 8\n7 9\n7 10\n8 1\n8 2\n8 3\n8 4\n8 5\n8 6\n8 7\n8 8\n8 9\n8 10\n9 1\n9 2\n9 3\n9 4\n9 5\n9 6\n9 7\n9 8\n9 9\n9 10\n10 1\n10 2\n10 3\n10 4\n10 5\n10 6\n10 7\n10 8\n10 9\n10 10\n"
    }
   ],
   "source": [
    "       "
   ]
  },
  {
   "cell_type": "code",
   "execution_count": null,
   "metadata": {},
   "outputs": [],
   "source": []
  }
 ]
}