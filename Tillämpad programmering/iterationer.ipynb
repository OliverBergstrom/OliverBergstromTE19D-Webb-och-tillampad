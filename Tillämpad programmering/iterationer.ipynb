{
 "metadata": {
  "language_info": {
   "codemirror_mode": {
    "name": "ipython",
    "version": 3
   },
   "file_extension": ".py",
   "mimetype": "text/x-python",
   "name": "python",
   "nbconvert_exporter": "python",
   "pygments_lexer": "ipython3",
   "version": "3.8.3-final"
  },
  "orig_nbformat": 2,
  "kernelspec": {
   "name": "python3",
   "display_name": "Python 3"
  }
 },
 "nbformat": 4,
 "nbformat_minor": 2,
 "cells": [
  {
   "cell_type": "code",
   "execution_count": 16,
   "metadata": {
    "tags": []
   },
   "outputs": [
    {
     "output_type": "stream",
     "name": "stdout",
     "text": "1\n3\n5\n7\n9\n945\n"
    }
   ],
   "source": [
    "summa = 1\n",
    "\n",
    "for i in range (1,11,2):\n",
    "    print(i)\n",
    "    summa=summa*i\n",
    "    \n",
    "print(f\"{summa}\")"
   ]
  },
  {
   "cell_type": "code",
   "execution_count": 20,
   "metadata": {
    "tags": []
   },
   "outputs": [
    {
     "output_type": "stream",
     "name": "stdout",
     "text": "antalet pengar efter 15 år 15579.67416600765\n"
    }
   ],
   "source": [
    "insättning = 10000\n",
    "förändringsfaktor = 1.03\n",
    "år = 0\n",
    "\n",
    "while år < 15:\n",
    "    insättning = insättning*förändringsfaktor\n",
    "    år+=1\n",
    "\n",
    "print(f\"antalet pengar efter 15 år {insättning}\")"
   ]
  },
  {
   "cell_type": "code",
   "execution_count": null,
   "metadata": {},
   "outputs": [],
   "source": []
  }
 ]
}