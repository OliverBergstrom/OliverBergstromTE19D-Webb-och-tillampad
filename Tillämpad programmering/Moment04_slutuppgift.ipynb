{
 "metadata": {
  "language_info": {
   "codemirror_mode": {
    "name": "ipython",
    "version": 3
   },
   "file_extension": ".py",
   "mimetype": "text/x-python",
   "name": "python",
   "nbconvert_exporter": "python",
   "pygments_lexer": "ipython3",
   "version": "3.8.3-final"
  },
  "orig_nbformat": 2,
  "kernelspec": {
   "name": "python_defaultSpec_1605774195179",
   "display_name": "Python 3.8.3 64-bit ('oliver.bergstrom1': virtualenv)"
  }
 },
 "nbformat": 4,
 "nbformat_minor": 2,
 "cells": [
  {
   "cell_type": "code",
   "execution_count": 6,
   "metadata": {
    "tags": []
   },
   "outputs": [
    {
     "output_type": "stream",
     "name": "stdout",
     "text": "Arean är 9 och den är en kvadrat\nVolymen för höjden 1 är 9\nVolymen för höjden 2 är 18\nVolymen för höjden 3 är 27\nVolymen för höjden 4 är 36\nVolymen för höjden 5 är 45\nVolymen för höjden 6 är 54\nVolymen för höjden 7 är 63\nVolymen för höjden 8 är 72\nVolymen för höjden 9 är 81\nVolymen för höjden 10 är 90\n"
    }
   ],
   "source": [
    "# uppgift 1\n",
    "\n",
    "Längd = int(input(\"Ange tal\"))\n",
    "Bredd = int(input(\"Ange tal\"))\n",
    "\n",
    "Area = Längd * Bredd\n",
    "\n",
    "if Längd == Bredd:\n",
    "    print(f\"Arean är {Area} och den är en kvadrat\")\n",
    "else:\n",
    "    print(f\"Arean är {Area} och den är en rektangel\")\n",
    "\n",
    "for i in range(1,11):\n",
    "    Volym = i*Area\n",
    "    print(f\"Volymen för höjden {i} är {Volym}\")\n"
   ]
  },
  {
   "cell_type": "code",
   "execution_count": null,
   "metadata": {},
   "outputs": [],
   "source": [
    "# uppgift 2\n",
    "\n",
    "Längd = int(input(\"Ange tal\"))\n",
    "Bredd = int(input(\"Ange tal\"))\n",
    "\n",
    "Area = Längd * Bredd\n",
    "\n",
    "if Längd == Bredd:\n",
    "    print(f\"Arean är {Area} och den är en kvadrat\")\n",
    "else:\n",
    "    print(f\"Arean är {Area} och den är en rektangel\")\n",
    "\n",
    "for i in range(1,11):\n",
    "    Volym = i*Area\n",
    "    print(f\"Volymen för höjden {i} är {Volym}\")"
   ]
  }
 ]
}