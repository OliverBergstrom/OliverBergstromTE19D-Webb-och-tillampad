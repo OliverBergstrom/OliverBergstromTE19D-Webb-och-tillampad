{
 "metadata": {
  "orig_nbformat": 2,
  "kernelspec": {
   "name": "python3",
   "display_name": "Python 3"
  }
 },
 "nbformat": 4,
 "nbformat_minor": 2,
 "cells": [
  {
   "cell_type": "code",
   "execution_count": 6,
   "metadata": {
    "tags": []
   },
   "outputs": [
    {
     "output_type": "stream",
     "name": "stdout",
     "text": "Arean är 9 och den är en kvadrat\nVolymen för höjden 1 är 9\nVolymen för höjden 2 är 18\nVolymen för höjden 3 är 27\nVolymen för höjden 4 är 36\nVolymen för höjden 5 är 45\nVolymen för höjden 6 är 54\nVolymen för höjden 7 är 63\nVolymen för höjden 8 är 72\nVolymen för höjden 9 är 81\nVolymen för höjden 10 är 90\n"
    }
   ],
   "source": [
    "# uppgift 1\n",
    "\n",
    "Längd = int(input(\"Ange längd\"))\n",
    "Bredd = int(input(\"Ange bredd\"))\n",
    "\n",
    "Area = Längd * Bredd\n",
    "\n",
    "if Längd == Bredd:\n",
    "    print(f\"Arean är {Area} och den är en kvadrat\")\n",
    "else:\n",
    "    print(f\"Arean är {Area} och den är en rektangel\")\n",
    "\n",
    "for i in range(1,11):\n",
    "    Volym = i*Area\n",
    "    print(f\"Volymen för höjden {i} är {Volym}\")\n"
   ]
  },
  {
   "cell_type": "code",
   "execution_count": 16,
   "metadata": {},
   "outputs": [
    {
     "output_type": "stream",
     "name": "stdout",
     "text": [
      "Arean är 12 och den är en rektangel\n",
      "Volymen för höjden 1 är 12\n",
      "Volymen för höjden 2 är 24\n",
      "Volymen för höjden 3 är 36\n",
      "Volymen för höjden 4 är 48\n",
      "Volymen för höjden 5 är 60\n",
      "Volymen för höjden 6 är 72\n",
      "Volymen för höjden 7 är 84\n",
      "Volymen för höjden 8 är 96\n",
      "Volymen för höjden 9 är 108\n",
      "Volymen för höjden 10 är 120\n",
      "Arean är 24 och den är en rektangel\n",
      "Volymen för höjden 1 är 24\n",
      "Volymen för höjden 2 är 48\n",
      "Volymen för höjden 3 är 72\n",
      "Volymen för höjden 4 är 96\n",
      "Volymen för höjden 5 är 120\n",
      "Volymen för höjden 6 är 144\n",
      "Volymen för höjden 7 är 168\n",
      "Volymen för höjden 8 är 192\n",
      "Volymen för höjden 9 är 216\n",
      "Volymen för höjden 10 är 240\n"
     ]
    }
   ],
   "source": [
    "# uppgift 2\n",
    "\n",
    "start = 0\n",
    "while start == 0:\n",
    "    Längd = int(input(\"Ange tal\"))\n",
    "    Bredd = int(input(\"Ange tal\"))\n",
    "\n",
    "    Area = Längd * Bredd\n",
    "\n",
    "    if Längd == Bredd:\n",
    "        print(f\"Arean är {Area} och den är en kvadrat\")\n",
    "    else:\n",
    "        print(f\"Arean är {Area} och den är en rektangel\")\n",
    "\n",
    "    for i in range(1,11):\n",
    "        Volym = i*Area\n",
    "        print(f\"Volymen för höjden {i} är {Volym}\")\n",
    "        start+=1\n",
    "\n",
    "    if input(\"Vill du starta om? Y/yes N/no\").lower() != 'y':\n",
    "        break                             \n",
    "    else:\n",
    "        start = 0"
   ]
  },
  {
   "cell_type": "code",
   "execution_count": 23,
   "metadata": {},
   "outputs": [
    {
     "output_type": "error",
     "ename": "ValueError",
     "evalue": "invalid literal for int() with base 10: 'o'",
     "traceback": [
      "\u001b[1;31m---------------------------------------------------------------------------\u001b[0m",
      "\u001b[1;31mValueError\u001b[0m                                Traceback (most recent call last)",
      "\u001b[1;32m<ipython-input-23-ef3007cd0576>\u001b[0m in \u001b[0;36m<module>\u001b[1;34m\u001b[0m\n\u001b[0;32m      5\u001b[0m \u001b[1;32mwhile\u001b[0m \u001b[0mstart\u001b[0m \u001b[1;33m==\u001b[0m \u001b[1;36m0\u001b[0m\u001b[1;33m:\u001b[0m\u001b[1;33m\u001b[0m\u001b[1;33m\u001b[0m\u001b[0m\n\u001b[0;32m      6\u001b[0m     \u001b[1;32mwhile\u001b[0m \u001b[0mlenlim\u001b[0m \u001b[1;33m==\u001b[0m \u001b[1;36m0\u001b[0m\u001b[1;33m:\u001b[0m\u001b[1;33m\u001b[0m\u001b[1;33m\u001b[0m\u001b[0m\n\u001b[1;32m----> 7\u001b[1;33m         \u001b[0mLängd\u001b[0m \u001b[1;33m=\u001b[0m \u001b[0mint\u001b[0m\u001b[1;33m(\u001b[0m\u001b[0minput\u001b[0m\u001b[1;33m(\u001b[0m\u001b[1;34m\"Ange längd\"\u001b[0m\u001b[1;33m)\u001b[0m\u001b[1;33m)\u001b[0m\u001b[1;33m\u001b[0m\u001b[1;33m\u001b[0m\u001b[0m\n\u001b[0m\u001b[0;32m      8\u001b[0m         \u001b[0mlenlim\u001b[0m\u001b[1;33m+=\u001b[0m\u001b[1;36m1\u001b[0m\u001b[1;33m\u001b[0m\u001b[1;33m\u001b[0m\u001b[0m\n\u001b[0;32m      9\u001b[0m         \u001b[1;32mif\u001b[0m \u001b[0misinstance\u001b[0m\u001b[1;33m(\u001b[0m\u001b[0mLängd\u001b[0m\u001b[1;33m,\u001b[0m \u001b[0mstr\u001b[0m\u001b[1;33m)\u001b[0m\u001b[1;33m:\u001b[0m\u001b[1;33m\u001b[0m\u001b[1;33m\u001b[0m\u001b[0m\n",
      "\u001b[1;31mValueError\u001b[0m: invalid literal for int() with base 10: 'o'"
     ]
    }
   ],
   "source": [
    "# uppgift 3\n",
    "\n",
    "start = 0\n",
    "lenlim = 0\n",
    "while start == 0:\n",
    "    while lenlim == 0:\n",
    "        Längd = int(input(\"Ange längd\"))\n",
    "        lenlim+=1\n",
    "        if isinstance(Längd, str):\n",
    "            lenlim = 0\n",
    "    Bredd = int(input(\"Ange bredd\"))\n",
    "    Höjd = int(input(\"Ange höjd\"))\n",
    "\n",
    "    Area = Längd * Bredd\n",
    "\n",
    "    if Längd == Bredd:\n",
    "        print(f\"Arean är {Area} och den är en kvadrat\")\n",
    "    else:\n",
    "        print(f\"Arean är {Area} och den är en rektangel\")\n",
    "\n",
    "    for Höjd in range(1,Höjd+1):\n",
    "        Volym = Höjd*Area\n",
    "        print(f\"Volymen för höjden {Höjd} är {Volym}\")\n",
    "        start+=1\n",
    "\n",
    "    if input(\"Vill du starta om? Y/yes N/no\").lower() != 'y':\n",
    "        break                             \n",
    "    else:\n",
    "        start = 0"
   ]
  },
  {
   "cell_type": "code",
   "execution_count": null,
   "metadata": {},
   "outputs": [],
   "source": []
  }
 ]
}